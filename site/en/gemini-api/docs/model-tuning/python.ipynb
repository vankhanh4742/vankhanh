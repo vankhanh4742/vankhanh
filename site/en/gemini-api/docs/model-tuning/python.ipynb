{
  "cells": [
    {
      "cell_type": "code",
      "execution_count": 38,
      "metadata": {
        "id": "w-EBSe9wTbLB",
        "colab": {
          "base_uri": "https://localhost:8080/",
          "height": 253
        },
        "outputId": "90c94d54-ac00-4d4d-d4c3-b48a0cdfbfb2"
      },
      "outputs": [
        {
          "output_type": "execute_result",
          "data": {
            "text/plain": [
              "Model(name='models/gemini-1.5-flash-001-tuning',\n",
              "      base_model_id='',\n",
              "      version='001',\n",
              "      display_name='Gemini 1.5 Flash 001 Tuning',\n",
              "      description=('Version of Gemini 1.5 Flash that supports tuning, our fast and versatile '\n",
              "                   'multimodal model for scaling across diverse tasks, released in May of 2024.'),\n",
              "      input_token_limit=16384,\n",
              "      output_token_limit=8192,\n",
              "      supported_generation_methods=['generateContent', 'countTokens', 'createTunedModel'],\n",
              "      temperature=1.0,\n",
              "      max_temperature=2.0,\n",
              "      top_p=0.95,\n",
              "      top_k=64)"
            ]
          },
          "metadata": {},
          "execution_count": 38
        }
      ],
      "source": [
        "base_model = [\n",
        "    m for m in genai.list_models()\n",
        "    if \"createTunedModel\" in m.supported_generation_methods and\n",
        "    \"flash\" in m.name][0]\n",
        "base_model"
      ]
    },
    {
      "cell_type": "code",
      "source": [
        "!pip install --upgrade google-generativeai\n",
        "\n",
        "import google.generativeai as genai\n",
        "from google.colab import userdata\n",
        "\n",
        "# Configure API key using userdata\n",
        "genai.configure(api_key=userdata.get('GOOGLE_API_KEY'))\n",
        "\n",
        "# Check if the API key is configured correctly.\n",
        "# Instead of genai.get_config().api_key, access it via genai.api_key\n",
        "print(f\"API Key: {genai.api_key}\")"
      ],
      "metadata": {
        "colab": {
          "base_uri": "https://localhost:8080/",
          "height": 729
        },
        "id": "PHYL-lqRO4YK",
        "outputId": "484067c6-164d-4815-a874-cbc1c975c81a"
      },
      "execution_count": 39,
      "outputs": [
        {
          "output_type": "stream",
          "name": "stdout",
          "text": [
            "Requirement already satisfied: google-generativeai in /usr/local/lib/python3.11/dist-packages (0.8.4)\n",
            "Requirement already satisfied: google-ai-generativelanguage==0.6.15 in /usr/local/lib/python3.11/dist-packages (from google-generativeai) (0.6.15)\n",
            "Requirement already satisfied: google-api-core in /usr/local/lib/python3.11/dist-packages (from google-generativeai) (2.24.2)\n",
            "Requirement already satisfied: google-api-python-client in /usr/local/lib/python3.11/dist-packages (from google-generativeai) (2.164.0)\n",
            "Requirement already satisfied: google-auth>=2.15.0 in /usr/local/lib/python3.11/dist-packages (from google-generativeai) (2.38.0)\n",
            "Requirement already satisfied: protobuf in /usr/local/lib/python3.11/dist-packages (from google-generativeai) (5.29.4)\n",
            "Requirement already satisfied: pydantic in /usr/local/lib/python3.11/dist-packages (from google-generativeai) (2.11.2)\n",
            "Requirement already satisfied: tqdm in /usr/local/lib/python3.11/dist-packages (from google-generativeai) (4.67.1)\n",
            "Requirement already satisfied: typing-extensions in /usr/local/lib/python3.11/dist-packages (from google-generativeai) (4.13.1)\n",
            "Requirement already satisfied: proto-plus<2.0.0dev,>=1.22.3 in /usr/local/lib/python3.11/dist-packages (from google-ai-generativelanguage==0.6.15->google-generativeai) (1.26.1)\n",
            "Requirement already satisfied: googleapis-common-protos<2.0.0,>=1.56.2 in /usr/local/lib/python3.11/dist-packages (from google-api-core->google-generativeai) (1.69.2)\n",
            "Requirement already satisfied: requests<3.0.0,>=2.18.0 in /usr/local/lib/python3.11/dist-packages (from google-api-core->google-generativeai) (2.32.3)\n",
            "Requirement already satisfied: cachetools<6.0,>=2.0.0 in /usr/local/lib/python3.11/dist-packages (from google-auth>=2.15.0->google-generativeai) (5.5.2)\n",
            "Requirement already satisfied: pyasn1-modules>=0.2.1 in /usr/local/lib/python3.11/dist-packages (from google-auth>=2.15.0->google-generativeai) (0.4.2)\n",
            "Requirement already satisfied: rsa<5,>=3.1.4 in /usr/local/lib/python3.11/dist-packages (from google-auth>=2.15.0->google-generativeai) (4.9)\n",
            "Requirement already satisfied: httplib2<1.dev0,>=0.19.0 in /usr/local/lib/python3.11/dist-packages (from google-api-python-client->google-generativeai) (0.22.0)\n",
            "Requirement already satisfied: google-auth-httplib2<1.0.0,>=0.2.0 in /usr/local/lib/python3.11/dist-packages (from google-api-python-client->google-generativeai) (0.2.0)\n",
            "Requirement already satisfied: uritemplate<5,>=3.0.1 in /usr/local/lib/python3.11/dist-packages (from google-api-python-client->google-generativeai) (4.1.1)\n",
            "Requirement already satisfied: annotated-types>=0.6.0 in /usr/local/lib/python3.11/dist-packages (from pydantic->google-generativeai) (0.7.0)\n",
            "Requirement already satisfied: pydantic-core==2.33.1 in /usr/local/lib/python3.11/dist-packages (from pydantic->google-generativeai) (2.33.1)\n",
            "Requirement already satisfied: typing-inspection>=0.4.0 in /usr/local/lib/python3.11/dist-packages (from pydantic->google-generativeai) (0.4.0)\n",
            "Requirement already satisfied: grpcio<2.0dev,>=1.33.2 in /usr/local/lib/python3.11/dist-packages (from google-api-core[grpc]!=2.0.*,!=2.1.*,!=2.10.*,!=2.2.*,!=2.3.*,!=2.4.*,!=2.5.*,!=2.6.*,!=2.7.*,!=2.8.*,!=2.9.*,<3.0.0dev,>=1.34.1->google-ai-generativelanguage==0.6.15->google-generativeai) (1.71.0)\n",
            "Requirement already satisfied: grpcio-status<2.0.dev0,>=1.33.2 in /usr/local/lib/python3.11/dist-packages (from google-api-core[grpc]!=2.0.*,!=2.1.*,!=2.10.*,!=2.2.*,!=2.3.*,!=2.4.*,!=2.5.*,!=2.6.*,!=2.7.*,!=2.8.*,!=2.9.*,<3.0.0dev,>=1.34.1->google-ai-generativelanguage==0.6.15->google-generativeai) (1.71.0)\n",
            "Requirement already satisfied: pyparsing!=3.0.0,!=3.0.1,!=3.0.2,!=3.0.3,<4,>=2.4.2 in /usr/local/lib/python3.11/dist-packages (from httplib2<1.dev0,>=0.19.0->google-api-python-client->google-generativeai) (3.2.3)\n",
            "Requirement already satisfied: pyasn1<0.7.0,>=0.6.1 in /usr/local/lib/python3.11/dist-packages (from pyasn1-modules>=0.2.1->google-auth>=2.15.0->google-generativeai) (0.6.1)\n",
            "Requirement already satisfied: charset-normalizer<4,>=2 in /usr/local/lib/python3.11/dist-packages (from requests<3.0.0,>=2.18.0->google-api-core->google-generativeai) (3.4.1)\n",
            "Requirement already satisfied: idna<4,>=2.5 in /usr/local/lib/python3.11/dist-packages (from requests<3.0.0,>=2.18.0->google-api-core->google-generativeai) (3.10)\n",
            "Requirement already satisfied: urllib3<3,>=1.21.1 in /usr/local/lib/python3.11/dist-packages (from requests<3.0.0,>=2.18.0->google-api-core->google-generativeai) (2.3.0)\n",
            "Requirement already satisfied: certifi>=2017.4.17 in /usr/local/lib/python3.11/dist-packages (from requests<3.0.0,>=2.18.0->google-api-core->google-generativeai) (2025.1.31)\n"
          ]
        },
        {
          "output_type": "error",
          "ename": "AttributeError",
          "evalue": "module 'google.generativeai' has no attribute 'api_key'",
          "traceback": [
            "\u001b[0;31m---------------------------------------------------------------------------\u001b[0m",
            "\u001b[0;31mAttributeError\u001b[0m                            Traceback (most recent call last)",
            "\u001b[0;32m<ipython-input-39-429aac79e3fc>\u001b[0m in \u001b[0;36m<cell line: 0>\u001b[0;34m()\u001b[0m\n\u001b[1;32m      9\u001b[0m \u001b[0;31m# Check if the API key is configured correctly.\u001b[0m\u001b[0;34m\u001b[0m\u001b[0;34m\u001b[0m\u001b[0m\n\u001b[1;32m     10\u001b[0m \u001b[0;31m# Instead of genai.get_config().api_key, access it via genai.api_key\u001b[0m\u001b[0;34m\u001b[0m\u001b[0;34m\u001b[0m\u001b[0m\n\u001b[0;32m---> 11\u001b[0;31m \u001b[0mprint\u001b[0m\u001b[0;34m(\u001b[0m\u001b[0;34mf\"API Key: {genai.api_key}\"\u001b[0m\u001b[0;34m)\u001b[0m\u001b[0;34m\u001b[0m\u001b[0;34m\u001b[0m\u001b[0m\n\u001b[0m",
            "\u001b[0;31mAttributeError\u001b[0m: module 'google.generativeai' has no attribute 'api_key'"
          ]
        }
      ]
    },
    {
      "cell_type": "code",
      "execution_count": 40,
      "metadata": {
        "id": "baHjHh1oTTTC"
      },
      "outputs": [],
      "source": [
        "import random\n",
        "import google.generativeai as genai\n",
        "\n",
        "# Get the latest Gemini model that supports tuning\n",
        "models = [m for m in genai.list_models() if 'createTunedModel' in m.supported_generation_methods and m.name.startswith('models/')]\n",
        "if models:\n",
        "    base_model = models[0].name  # Use the first available model\n",
        "else:\n",
        "    raise ValueError(\"No suitable base model found for tuning.\")\n",
        "\n",
        "name = f'generate-num-{random.randint(0, 10000)}'\n",
        "# operation = genai.create_tuned_model(\n",
        "#     source_model=base_model,  # Pass the full model name\n",
        "#     training_data=[\n",
        "#         {'text_input': '1', 'output': '2'},\n",
        "#         {'text_input': '3', 'output': '4'},\n",
        "#         {'text_input': '-3', 'output': '-2'},\n",
        "#         {'text_input': 'twenty two', 'output': 'twenty three'},\n",
        "#         {'text_input': 'two hundred', 'output': 'two hundred one'},\n",
        "#         {'text_input': 'ninety nine', 'output': 'one hundred'},\n",
        "#         {'text_input': '8', 'output': '9'},\n",
        "#         {'text_input': '-98', 'output': '-97'},\n",
        "#         {'text_input': '1,000', 'output': '1,001'},\n",
        "#         {'text_input': '10,100,000', 'output': '10,100,001'},\n",
        "#         {'text_input': 'thirteen', 'output': 'fourteen'},\n",
        "#         {'text_input': 'eighty', 'output': 'eighty one'},\n",
        "#         {'text_input': 'one', 'output': 'two'},\n",
        "#         {'text_input': 'three', 'output': 'four'},\n",
        "#         {'text_input': 'seven', 'output': 'eight'},\n",
        "#     ],\n",
        "#     id=name,\n",
        "#     epoch_count=100,\n",
        "#     batch_size=4,\n",
        "#     learning_rate=0.001,\n",
        "# )"
      ]
    },
    {
      "cell_type": "code",
      "source": [
        "from google.colab import drive\n",
        "drive.mount('/content/drive')"
      ],
      "metadata": {
        "colab": {
          "base_uri": "https://localhost:8080/"
        },
        "id": "z-7MbZIPT-7v",
        "outputId": "845cd4c0-4501-49ca-f557-393059de48f6"
      },
      "execution_count": 43,
      "outputs": [
        {
          "output_type": "stream",
          "name": "stdout",
          "text": [
            "Mounted at /content/drive\n"
          ]
        }
      ]
    },
    {
      "cell_type": "code",
      "source": [
        "import os\n",
        "import pandas as pd\n",
        "\n",
        "# === Thiết lập đường dẫn gốc ===\n",
        "root_dir = \"/content/drive/MyDrive/VNHSGE-V/JSONformat\"\n",
        "\n",
        "# === Danh sách lưu tất cả DataFrame từ các file JSON ===\n",
        "all_dataframes = []\n",
        "\n",
        "# === Duyệt qua toàn bộ thư mục và thư mục con ===\n",
        "for subdir, _, files in os.walk(root_dir):\n",
        "    for file in files:\n",
        "        if file.endswith(\".json\"):\n",
        "            file_path = os.path.join(subdir, file)\n",
        "            try:\n",
        "                df = pd.read_json(file_path)\n",
        "                # Kiểm tra dữ liệu hợp lệ\n",
        "                if not df.empty and {'Question', 'Choice'}.issubset(df.columns):\n",
        "                    all_dataframes.append(df)\n",
        "                else:\n",
        "                    print(f\"[⚠️] Bỏ qua file không hợp lệ: {file_path}\")\n",
        "\n",
        "            except Exception as e:\n",
        "                print(f\"[❌] Lỗi khi đọc {file_path}: {e}\")\n",
        "\n",
        "# === Gộp tất cả các DataFrame thành một ===\n",
        "if all_dataframes:\n",
        "    full_dataset = pd.concat(all_dataframes, ignore_index=True)\n",
        "    df_100 = full_dataset.head(100)\n",
        "    # Hiển thị vài dòng đầu để kiểm tra\n",
        "    print(\"✅ Tổng số mẫu:\", len(full_dataset))\n",
        "    print(\"🔍 Một vài dòng mẫu:\")\n",
        "    print(full_dataset.sample(5))\n",
        "    print(df_100.sample(5))\n",
        "else:\n",
        "    print(\"❌ Không tìm thấy dữ liệu hợp lệ nào!\")\n",
        "\n"
      ],
      "metadata": {
        "colab": {
          "base_uri": "https://localhost:8080/"
        },
        "id": "Bvlv9TAERpTG",
        "outputId": "07c4ac75-5f3b-4c45-bfb4-e57f58b67d6b"
      },
      "execution_count": 115,
      "outputs": [
        {
          "output_type": "stream",
          "name": "stdout",
          "text": [
            "[⚠️] Bỏ qua file không hợp lệ: /content/drive/MyDrive/VNHSGE-V/JSONformat/eval/Literature/MET_Lit_OE_2020.json\n",
            "[⚠️] Bỏ qua file không hợp lệ: /content/drive/MyDrive/VNHSGE-V/JSONformat/eval/Literature/MET_Lit_OE_2019.json\n",
            "[⚠️] Bỏ qua file không hợp lệ: /content/drive/MyDrive/VNHSGE-V/JSONformat/eval/Literature/MET_Lit_OE_2021.json\n",
            "[⚠️] Bỏ qua file không hợp lệ: /content/drive/MyDrive/VNHSGE-V/JSONformat/eval/Literature/MET_Lit_IE_2023.json\n",
            "[⚠️] Bỏ qua file không hợp lệ: /content/drive/MyDrive/VNHSGE-V/JSONformat/eval/Literature/MET_Lit_OE_2022.json\n",
            "✅ Tổng số mẫu: 7097\n",
            "🔍 Một vài dòng mẫu:\n",
            "                      ID Image_Question  \\\n",
            "6723           His_40_27                  \n",
            "3000           Geo_26_24                  \n",
            "1132   MET_Bio_IE_2020_6                  \n",
            "451            Civ_40_13                  \n",
            "1562  MET_Phy_IE_2020_36                  \n",
            "\n",
            "                                               Question Choice Image_Answer  \\\n",
            "6723  Câu 27:\\nYếu tố nào sau đây quyết định sự bùng...      B                \n",
            "3000  CÂU 24:\\nCho bảng số liệu sau:\\nSố khách du tị...      C                \n",
            "1132  Câu 6 : Ở tế bào động vật, bào quan nào sau đâ...      A                \n",
            "451   CÂU 13:\\nNhà nước đưa các quy phạm đao đức có ...      A                \n",
            "1562  Câu 36. Đặt điện áp xoay chiều u = 60*\\sqrt {2...      A                \n",
            "\n",
            "                                            Explanation  \n",
            "6723  Trước những thay đổi của tình hình thế giới và...  \n",
            "3000  Số khách du lịch quốc tế đến của khu vực Tây Á...  \n",
            "1132  Ở tế bào động vật, ti thể chứa gen di truyền t...  \n",
            "451   - Nhà nước đưa các quy phạm đao đức có tính ph...  \n",
            "1562  Dung kháng của tụ điện là: $Z_{C}=\\frac{1}{2 \\...  \n",
            "           ID        Image_Question  \\\n",
            "5    Geo_25_6                         \n",
            "84   Geo_28_5                         \n",
            "34  Geo_25_35                         \n",
            "38  Geo_25_39                         \n",
            "32  Geo_25_33  Geo_25/Geo_25_33.png   \n",
            "\n",
            "                                             Question Choice Image_Answer  \\\n",
            "5   CÂU 6:Căn cứ vào Atlat Địa lí Việt Nam trang 4...      A                \n",
            "84  CÂU 5:\\nNguyên nhân chủ yếu nào làm cho quá tr...      C                \n",
            "34  CÂU 35:Vùng nông nghiệp Trung du và miền núi B...      B                \n",
            "38  CÂU 39:Căn cứ vào Atlat Địa lí Việt Nam trang ...      C                \n",
            "32  CÂU 33:Cho biểu đồ về một số chỉ số dân cư của...      D                \n",
            "\n",
            "                                          Explanation  \n",
            "5   Căn cứ vào Atlat Địa lí Việt Nam trang 4-5, Bắ...  \n",
            "84  Nguyên nhân chủ yếu làm cho quá trình đô thị h...  \n",
            "34  Vùng nông nghiệp Trung du và miền núi Bắc Bộ c...  \n",
            "38  Căn cứ vào Atlat Địa lí Việt Nam trang 27, tỉn...  \n",
            "32  Biểu đồ cột thể hiện tình hình tỉ suất sinh, t...  \n"
          ]
        }
      ]
    },
    {
      "cell_type": "code",
      "source": [
        "# Áp dụng format cho 100 dòng\n",
        "formatted_data = [format_example(row) for _, row in df_100.iterrows() if format_example(row) is not None]\n",
        "# Hiển thị 3 dòng kết quả mẫu\n",
        "formatted_data[:3]"
      ],
      "metadata": {
        "colab": {
          "base_uri": "https://localhost:8080/"
        },
        "id": "TPxRrqcUZVU7",
        "outputId": "c407ce7b-752a-498e-9f6e-45876063fd25"
      },
      "execution_count": 116,
      "outputs": [
        {
          "output_type": "execute_result",
          "data": {
            "text/plain": [
              "[{'text_input': 'Hãy tạo một câu hỏi trắc nghiệm lớp 11 môn Địa lý. Đáp án đúng là: B. Trả về đúng định dạng:\\nCâu hỏi: ...?\\nA. ...\\nB. ...\\nC. ...\\nD. ...\\nĐáp án đúng: ...',\n",
              "  'output': 'Câu hỏi: CÂU 1:Vai trò của rừng đối với môi trường là\\nA.cung cấp gỗ và củi.\\nB.cân bằng sinh thái.\\nC.cung cấp dược liệu.\\nD.tài nguyên du lịch.\\nA. (phương án 1)\\nB. (phương án 2)\\nC. (phương án 3)\\nD. (phương án 4)\\nĐáp án đúng: B'},\n",
              " {'text_input': 'Hãy tạo một câu hỏi trắc nghiệm lớp 11 môn Địa lý. Đáp án đúng là: A. Trả về đúng định dạng:\\nCâu hỏi: ...?\\nA. ...\\nB. ...\\nC. ...\\nD. ...\\nĐáp án đúng: ...',\n",
              "  'output': 'Câu hỏi: CÂU 2:Mùa bão nước ta có đặc điểm\\nA.chậm dần từ Bắc vào Nam.\\nB.ở miền Trung sớm nhất.\\nC.Nam Bộ có bão mạnh nhất.\\nD.\\xa0Bắc Bộ có bão mạnh muộn.\\nA. (phương án 1)\\nB. (phương án 2)\\nC. (phương án 3)\\nD. (phương án 4)\\nĐáp án đúng: A'},\n",
              " {'text_input': 'Hãy tạo một câu hỏi trắc nghiệm lớp 11 môn Địa lý. Đáp án đúng là: A. Trả về đúng định dạng:\\nCâu hỏi: ...?\\nA. ...\\nB. ...\\nC. ...\\nD. ...\\nĐáp án đúng: ...',\n",
              "  'output': 'Câu hỏi: CÂU 3:Đặc điểm\\xa0không\\xa0đúng với cơ cấu công nghiệp theo ngành của nước ta hiện nay là\\nA.tập trung một số nơi.\\nB.có các ngành trọng điểm.\\nC.tương đối đa dạng.\\nD.có sự chuyển dịch rõ rệt.\\nA. (phương án 1)\\nB. (phương án 2)\\nC. (phương án 3)\\nD. (phương án 4)\\nĐáp án đúng: A'}]"
            ]
          },
          "metadata": {},
          "execution_count": 116
        }
      ]
    },
    {
      "cell_type": "code",
      "source": [
        "def extract_subject(id_str):\n",
        "    code = id_str.split('_')[0]\n",
        "    mapping = {\n",
        "        'Math': 'Toán',\n",
        "        'Phys': 'Vật lý',\n",
        "        'Chem': 'Hóa học',\n",
        "        'Bio': 'Sinh học',\n",
        "        'His': 'Lịch sử',\n",
        "        'Geo': 'Địa lý',\n",
        "        'Civ': 'Giáo dục công dân',\n",
        "        'Lit': 'Ngữ văn',\n",
        "        'Eng': 'Tiếng Anh'\n",
        "    }\n",
        "    return mapping.get(code, 'Không xác định')\n"
      ],
      "metadata": {
        "id": "AWdOGj3sDuO_"
      },
      "execution_count": 90,
      "outputs": []
    },
    {
      "cell_type": "code",
      "source": [
        "def format_example(row):\n",
        "    if pd.notna(row['Choice']) and pd.notna(row['ID']) and pd.notna(row['Question']):\n",
        "        subject = extract_subject(row['ID'])\n",
        "        return {\n",
        "            \"text_input\": (\n",
        "                f\"Hãy tạo một câu hỏi trắc nghiệm lớp 11 môn {subject}. \"\n",
        "                f\"Đáp án đúng là: {row['Choice']}. \"\n",
        "                \"Trả về đúng định dạng:\\n\"\n",
        "                \"Câu hỏi: ...?\\n\"\n",
        "                \"A. ...\\nB. ...\\nC. ...\\nD. ...\\n\"\n",
        "                \"Đáp án đúng: ...\"\n",
        "            ),\n",
        "            \"output\": (\n",
        "                f\"Câu hỏi: {row['Question']}\\n\"\n",
        "                \"A. (phương án 1)\\n\"\n",
        "                \"B. (phương án 2)\\n\"\n",
        "                \"C. (phương án 3)\\n\"\n",
        "                \"D. (phương án 4)\\n\"\n",
        "                f\"Đáp án đúng: {row['Choice']}\"\n",
        "            )\n",
        "        }\n",
        "    else:\n",
        "        print(f\"Bỏ qua vì thiếu dữ liệu: {row.get('Question')}\")\n",
        "        return None\n",
        "\n",
        "# Convert the Pandas Series to a list of dictionaries, filtering out None values\n",
        "training_data_list = full_dataset.apply(format_example, axis=1).dropna().tolist()\n",
        "name = f'generate-exam-{random.randint(0, 10000)}'\n",
        "operation = genai.create_tuned_model(\n",
        "    source_model=base_model,  # Pass the full model name\n",
        "    training_data=formatted_data,  # Pass the list of dictionaries\n",
        "    id=name,\n",
        "    epoch_count=3,\n",
        "    batch_size=64,\n",
        "    learning_rate=1,\n",
        ")"
      ],
      "metadata": {
        "id": "kESQFsLtR2zn"
      },
      "execution_count": 123,
      "outputs": []
    },
    {
      "cell_type": "markdown",
      "metadata": {
        "id": "-As7ayWDK1w8"
      },
      "source": [
        "Your tuned model is immediately added to the list of tuned models, but its status is set to \"creating\" while the model is tuned."
      ]
    },
    {
      "cell_type": "code",
      "execution_count": 119,
      "metadata": {
        "id": "su64KgY4Uztj",
        "colab": {
          "base_uri": "https://localhost:8080/",
          "height": 344
        },
        "outputId": "68dc4aa2-71c8-4c6b-d39a-abb2a058c3f7"
      },
      "outputs": [
        {
          "output_type": "execute_result",
          "data": {
            "text/plain": [
              "TunedModel(name='tunedModels/generate-exam-9485',\n",
              "           source_model='models/gemini-1.5-flash-001-tuning',\n",
              "           base_model='models/gemini-1.5-flash-001-tuning',\n",
              "           display_name='',\n",
              "           description='',\n",
              "           temperature=1.0,\n",
              "           top_p=0.95,\n",
              "           top_k=64,\n",
              "           state=<State.CREATING: 1>,\n",
              "           create_time=datetime.datetime(2025, 4, 9, 21, 13, 43, 411351, tzinfo=datetime.timezone.utc),\n",
              "           update_time=datetime.datetime(2025, 4, 9, 21, 13, 43, 411351, tzinfo=datetime.timezone.utc),\n",
              "           tuning_task=TuningTask(start_time=None,\n",
              "                                  complete_time=None,\n",
              "                                  snapshots=[],\n",
              "                                  hyperparameters=Hyperparameters(epoch_count=5,\n",
              "                                                                  batch_size=64,\n",
              "                                                                  learning_rate=1.0)),\n",
              "           reader_project_numbers=None)"
            ]
          },
          "metadata": {},
          "execution_count": 119
        }
      ],
      "source": [
        "model = genai.get_tuned_model(f'tunedModels/{name}')\n",
        "\n",
        "model"
      ]
    },
    {
      "cell_type": "code",
      "execution_count": 120,
      "metadata": {
        "id": "EUodUwZkKPi-",
        "colab": {
          "base_uri": "https://localhost:8080/"
        },
        "outputId": "0dcc7dbc-0741-4f32-884c-4a5a6b3a703c"
      },
      "outputs": [
        {
          "output_type": "execute_result",
          "data": {
            "text/plain": [
              "<State.CREATING: 1>"
            ]
          },
          "metadata": {},
          "execution_count": 120
        }
      ],
      "source": [
        "model.state"
      ]
    },
    {
      "cell_type": "markdown",
      "metadata": {
        "id": "Pi8X5vkQv-3_"
      },
      "source": [
        "### Check tuning progress"
      ]
    },
    {
      "cell_type": "markdown",
      "metadata": {
        "id": "tWI-vAh4LJIz"
      },
      "source": [
        "Use `metadata` to check the state:"
      ]
    },
    {
      "cell_type": "code",
      "execution_count": 121,
      "metadata": {
        "id": "g08vqtxYLMxT",
        "colab": {
          "base_uri": "https://localhost:8080/"
        },
        "outputId": "e8c7b47a-2fa3-442a-fe06-27b27a4c6323"
      },
      "outputs": [
        {
          "output_type": "execute_result",
          "data": {
            "text/plain": [
              "total_steps: 8\n",
              "tuned_model: \"tunedModels/generate-exam-9485\""
            ]
          },
          "metadata": {},
          "execution_count": 121
        }
      ],
      "source": [
        "operation.metadata"
      ]
    },
    {
      "cell_type": "markdown",
      "metadata": {
        "id": "3lQ6gSMgK-kz"
      },
      "source": [
        "Wait for the training to finish using `operation.result()`, or `operation.wait_bar()`"
      ]
    },
    {
      "cell_type": "code",
      "source": [
        "import json\n",
        "for i, ex in enumerate(formatted_data[:5]):\n",
        "    print(f\"--- Example {i+1} ---\")\n",
        "    print(json.dumps(ex, indent=2, ensure_ascii=False))\n"
      ],
      "metadata": {
        "colab": {
          "base_uri": "https://localhost:8080/"
        },
        "id": "6AQAuUwqcRbD",
        "outputId": "d1890d05-a721-4d42-c76a-d8f88e63f5f4"
      },
      "execution_count": 125,
      "outputs": [
        {
          "output_type": "stream",
          "name": "stdout",
          "text": [
            "--- Example 1 ---\n",
            "{\n",
            "  \"text_input\": \"Hãy tạo một câu hỏi trắc nghiệm lớp 11 môn Địa lý. Đáp án đúng là: B. Trả về đúng định dạng:\\nCâu hỏi: ...?\\nA. ...\\nB. ...\\nC. ...\\nD. ...\\nĐáp án đúng: ...\",\n",
            "  \"output\": \"Câu hỏi: CÂU 1:Vai trò của rừng đối với môi trường là\\nA.cung cấp gỗ và củi.\\nB.cân bằng sinh thái.\\nC.cung cấp dược liệu.\\nD.tài nguyên du lịch.\\nA. (phương án 1)\\nB. (phương án 2)\\nC. (phương án 3)\\nD. (phương án 4)\\nĐáp án đúng: B\"\n",
            "}\n",
            "--- Example 2 ---\n",
            "{\n",
            "  \"text_input\": \"Hãy tạo một câu hỏi trắc nghiệm lớp 11 môn Địa lý. Đáp án đúng là: A. Trả về đúng định dạng:\\nCâu hỏi: ...?\\nA. ...\\nB. ...\\nC. ...\\nD. ...\\nĐáp án đúng: ...\",\n",
            "  \"output\": \"Câu hỏi: CÂU 2:Mùa bão nước ta có đặc điểm\\nA.chậm dần từ Bắc vào Nam.\\nB.ở miền Trung sớm nhất.\\nC.Nam Bộ có bão mạnh nhất.\\nD. Bắc Bộ có bão mạnh muộn.\\nA. (phương án 1)\\nB. (phương án 2)\\nC. (phương án 3)\\nD. (phương án 4)\\nĐáp án đúng: A\"\n",
            "}\n",
            "--- Example 3 ---\n",
            "{\n",
            "  \"text_input\": \"Hãy tạo một câu hỏi trắc nghiệm lớp 11 môn Địa lý. Đáp án đúng là: A. Trả về đúng định dạng:\\nCâu hỏi: ...?\\nA. ...\\nB. ...\\nC. ...\\nD. ...\\nĐáp án đúng: ...\",\n",
            "  \"output\": \"Câu hỏi: CÂU 3:Đặc điểm không đúng với cơ cấu công nghiệp theo ngành của nước ta hiện nay là\\nA.tập trung một số nơi.\\nB.có các ngành trọng điểm.\\nC.tương đối đa dạng.\\nD.có sự chuyển dịch rõ rệt.\\nA. (phương án 1)\\nB. (phương án 2)\\nC. (phương án 3)\\nD. (phương án 4)\\nĐáp án đúng: A\"\n",
            "}\n",
            "--- Example 4 ---\n",
            "{\n",
            "  \"text_input\": \"Hãy tạo một câu hỏi trắc nghiệm lớp 11 môn Địa lý. Đáp án đúng là: A. Trả về đúng định dạng:\\nCâu hỏi: ...?\\nA. ...\\nB. ...\\nC. ...\\nD. ...\\nĐáp án đúng: ...\",\n",
            "  \"output\": \"Câu hỏi: CÂU 4:Hai bể trầm tích có triển vọng nhất về trữ lượng và khả năng khai thác dầu khí ở nước ta là\\nA.Cửu Long và Nam Côn Sơn.\\nB.Na Dương và Nam Côn Sơn.\\nC.Nam Côn Sơn và sông Hồng.\\nD.Thổ Chu – Mã Lai và sông Hồng.\\nA. (phương án 1)\\nB. (phương án 2)\\nC. (phương án 3)\\nD. (phương án 4)\\nĐáp án đúng: A\"\n",
            "}\n",
            "--- Example 5 ---\n",
            "{\n",
            "  \"text_input\": \"Hãy tạo một câu hỏi trắc nghiệm lớp 11 môn Địa lý. Đáp án đúng là: B. Trả về đúng định dạng:\\nCâu hỏi: ...?\\nA. ...\\nB. ...\\nC. ...\\nD. ...\\nĐáp án đúng: ...\",\n",
            "  \"output\": \"Câu hỏi: CÂU 5:Thuận lợi đối với khai thác hải sản ở Đông Nam Bộ là\\nA. rừng ngập mặn.\\nB. có các ngư trường.\\nC. nhiều bãi biển.\\nD. bãi triều rộng.\\nA. (phương án 1)\\nB. (phương án 2)\\nC. (phương án 3)\\nD. (phương án 4)\\nĐáp án đúng: B\"\n",
            "}\n"
          ]
        }
      ]
    },
    {
      "cell_type": "code",
      "source": [
        "print(df_100.columns)  # hoặc df.columns nếu là toàn bộ\n"
      ],
      "metadata": {
        "colab": {
          "base_uri": "https://localhost:8080/"
        },
        "id": "q5g7jge1ce27",
        "outputId": "b8201917-bd3d-4cf0-82c0-d9233d09cf00"
      },
      "execution_count": 126,
      "outputs": [
        {
          "output_type": "stream",
          "name": "stdout",
          "text": [
            "Index(['ID', 'Image_Question', 'Question', 'Choice', 'Image_Answer',\n",
            "       'Explanation'],\n",
            "      dtype='object')\n"
          ]
        }
      ]
    },
    {
      "cell_type": "code",
      "source": [
        "def extract_subject(id_str):\n",
        "    code = id_str.split('_')[0]\n",
        "    mapping = {\n",
        "        'Math': 'Toán',\n",
        "        'Phys': 'Vật lý',\n",
        "        'Chem': 'Hóa học',\n",
        "        'Bio': 'Sinh học',\n",
        "        'His': 'Lịch sử',\n",
        "        'Geo': 'Địa lý',\n",
        "        'Civ': 'Giáo dục công dân',\n",
        "        'Eng': 'Tiếng Anh',\n",
        "        'Lit': 'Ngữ văn'\n",
        "    }\n",
        "    return mapping.get(code, 'Không xác định')\n",
        "\n",
        "def format_example_final(row):\n",
        "    if pd.notna(row['Choice']) and pd.notna(row['ID']) and pd.notna(row['Question']):\n",
        "        subject = extract_subject(row['ID'])\n",
        "        return {\n",
        "            \"text_input\": (\n",
        "                f\"Hãy tạo một câu hỏi trắc nghiệm lớp 11 môn {subject}. \"\n",
        "                f\"Đáp án đúng là: {row['Choice']}. \"\n",
        "                \"Trả về định dạng đầy đủ gồm: Câu hỏi, 4 phương án A-D, và đáp án đúng.\"\n",
        "            ),\n",
        "            \"output\": (\n",
        "                f\"{row['Question']}\\n\"\n",
        "                f\"Đáp án đúng: {row['Choice']}\"\n",
        "            )\n",
        "        }\n",
        "    return None\n",
        "\n",
        "\n",
        "# Áp dụng lại\n",
        "formatted_data_clean = [format_example_final(row) for _, row in df_100.iterrows() if format_example_final(row) is not None]\n"
      ],
      "metadata": {
        "id": "WxdRa9YBc4Oa"
      },
      "execution_count": 132,
      "outputs": []
    },
    {
      "cell_type": "code",
      "source": [
        "# Convert the Pandas Series to a list of dictionaries, filtering out None values\n",
        "training_data_list = full_dataset.apply(format_example, axis=1).dropna().tolist()\n",
        "name = f'generate-exam-{random.randint(0, 10000)}'\n",
        "operation = genai.create_tuned_model(\n",
        "    source_model=base_model,  # Pass the full model name\n",
        "    training_data=formatted_data_clean,  # Pass the list of dictionaries\n",
        "    id=name,\n",
        "    epoch_count=10,\n",
        "    batch_size=64,\n",
        "    learning_rate=1,\n",
        ")"
      ],
      "metadata": {
        "id": "2wRMFld5dCaK"
      },
      "execution_count": 136,
      "outputs": []
    },
    {
      "cell_type": "code",
      "source": [
        "import re\n",
        "\n",
        "def check_format_issues(data):\n",
        "    for i, sample in enumerate(data):\n",
        "        if not isinstance(sample, dict):\n",
        "            print(f\"❌ Mẫu {i} không phải dictionary\")\n",
        "            continue\n",
        "        for field in ['text_input', 'output']:\n",
        "            if field not in sample:\n",
        "                print(f\"❌ Mẫu {i} thiếu trường '{field}'\")\n",
        "                continue\n",
        "            value = sample[field]\n",
        "            if not isinstance(value, str):\n",
        "                print(f\"❌ Mẫu {i} trường {field} không phải string\")\n",
        "            if len(value.strip()) < 20:\n",
        "                print(f\"⚠️ Mẫu {i} trường {field} quá ngắn: {repr(value)}\")\n",
        "            if \"...\" in value:\n",
        "                print(f\"⚠️ Mẫu {i} chứa '...': {repr(value[:50])}\")\n",
        "            if re.search(r'[^\\x00-\\x7F]', value):\n",
        "                print(f\"✅ Mẫu {i} có ký tự Unicode (Tiếng Việt là OK)\")\n",
        "    print(\"✅ Kiểm tra xong!\")\n",
        "check_format_issues(formatted_data_clean)\n"
      ],
      "metadata": {
        "colab": {
          "base_uri": "https://localhost:8080/"
        },
        "id": "9tL5uZP4eHDz",
        "outputId": "483baaab-187d-44cf-a867-04e4f3aab12d"
      },
      "execution_count": 134,
      "outputs": [
        {
          "output_type": "stream",
          "name": "stdout",
          "text": [
            "✅ Mẫu 0 có ký tự Unicode (Tiếng Việt là OK)\n",
            "✅ Mẫu 0 có ký tự Unicode (Tiếng Việt là OK)\n",
            "✅ Mẫu 1 có ký tự Unicode (Tiếng Việt là OK)\n",
            "✅ Mẫu 1 có ký tự Unicode (Tiếng Việt là OK)\n",
            "✅ Mẫu 2 có ký tự Unicode (Tiếng Việt là OK)\n",
            "✅ Mẫu 2 có ký tự Unicode (Tiếng Việt là OK)\n",
            "✅ Mẫu 3 có ký tự Unicode (Tiếng Việt là OK)\n",
            "✅ Mẫu 3 có ký tự Unicode (Tiếng Việt là OK)\n",
            "✅ Mẫu 4 có ký tự Unicode (Tiếng Việt là OK)\n",
            "✅ Mẫu 4 có ký tự Unicode (Tiếng Việt là OK)\n",
            "✅ Mẫu 5 có ký tự Unicode (Tiếng Việt là OK)\n",
            "✅ Mẫu 5 có ký tự Unicode (Tiếng Việt là OK)\n",
            "✅ Mẫu 6 có ký tự Unicode (Tiếng Việt là OK)\n",
            "✅ Mẫu 6 có ký tự Unicode (Tiếng Việt là OK)\n",
            "✅ Mẫu 7 có ký tự Unicode (Tiếng Việt là OK)\n",
            "✅ Mẫu 7 có ký tự Unicode (Tiếng Việt là OK)\n",
            "✅ Mẫu 8 có ký tự Unicode (Tiếng Việt là OK)\n",
            "✅ Mẫu 8 có ký tự Unicode (Tiếng Việt là OK)\n",
            "✅ Mẫu 9 có ký tự Unicode (Tiếng Việt là OK)\n",
            "✅ Mẫu 9 có ký tự Unicode (Tiếng Việt là OK)\n",
            "✅ Mẫu 10 có ký tự Unicode (Tiếng Việt là OK)\n",
            "✅ Mẫu 10 có ký tự Unicode (Tiếng Việt là OK)\n",
            "✅ Mẫu 11 có ký tự Unicode (Tiếng Việt là OK)\n",
            "✅ Mẫu 11 có ký tự Unicode (Tiếng Việt là OK)\n",
            "✅ Mẫu 12 có ký tự Unicode (Tiếng Việt là OK)\n",
            "✅ Mẫu 12 có ký tự Unicode (Tiếng Việt là OK)\n",
            "✅ Mẫu 13 có ký tự Unicode (Tiếng Việt là OK)\n",
            "✅ Mẫu 13 có ký tự Unicode (Tiếng Việt là OK)\n",
            "✅ Mẫu 14 có ký tự Unicode (Tiếng Việt là OK)\n",
            "✅ Mẫu 14 có ký tự Unicode (Tiếng Việt là OK)\n",
            "✅ Mẫu 15 có ký tự Unicode (Tiếng Việt là OK)\n",
            "✅ Mẫu 15 có ký tự Unicode (Tiếng Việt là OK)\n",
            "✅ Mẫu 16 có ký tự Unicode (Tiếng Việt là OK)\n",
            "✅ Mẫu 16 có ký tự Unicode (Tiếng Việt là OK)\n",
            "✅ Mẫu 17 có ký tự Unicode (Tiếng Việt là OK)\n",
            "✅ Mẫu 17 có ký tự Unicode (Tiếng Việt là OK)\n",
            "✅ Mẫu 18 có ký tự Unicode (Tiếng Việt là OK)\n",
            "✅ Mẫu 18 có ký tự Unicode (Tiếng Việt là OK)\n",
            "✅ Mẫu 19 có ký tự Unicode (Tiếng Việt là OK)\n",
            "✅ Mẫu 19 có ký tự Unicode (Tiếng Việt là OK)\n",
            "✅ Mẫu 20 có ký tự Unicode (Tiếng Việt là OK)\n",
            "✅ Mẫu 20 có ký tự Unicode (Tiếng Việt là OK)\n",
            "✅ Mẫu 21 có ký tự Unicode (Tiếng Việt là OK)\n",
            "✅ Mẫu 21 có ký tự Unicode (Tiếng Việt là OK)\n",
            "✅ Mẫu 22 có ký tự Unicode (Tiếng Việt là OK)\n",
            "✅ Mẫu 22 có ký tự Unicode (Tiếng Việt là OK)\n",
            "✅ Mẫu 23 có ký tự Unicode (Tiếng Việt là OK)\n",
            "✅ Mẫu 23 có ký tự Unicode (Tiếng Việt là OK)\n",
            "✅ Mẫu 24 có ký tự Unicode (Tiếng Việt là OK)\n",
            "✅ Mẫu 24 có ký tự Unicode (Tiếng Việt là OK)\n",
            "✅ Mẫu 25 có ký tự Unicode (Tiếng Việt là OK)\n",
            "✅ Mẫu 25 có ký tự Unicode (Tiếng Việt là OK)\n",
            "✅ Mẫu 26 có ký tự Unicode (Tiếng Việt là OK)\n",
            "✅ Mẫu 26 có ký tự Unicode (Tiếng Việt là OK)\n",
            "✅ Mẫu 27 có ký tự Unicode (Tiếng Việt là OK)\n",
            "✅ Mẫu 27 có ký tự Unicode (Tiếng Việt là OK)\n",
            "✅ Mẫu 28 có ký tự Unicode (Tiếng Việt là OK)\n",
            "✅ Mẫu 28 có ký tự Unicode (Tiếng Việt là OK)\n",
            "✅ Mẫu 29 có ký tự Unicode (Tiếng Việt là OK)\n",
            "✅ Mẫu 29 có ký tự Unicode (Tiếng Việt là OK)\n",
            "✅ Mẫu 30 có ký tự Unicode (Tiếng Việt là OK)\n",
            "✅ Mẫu 30 có ký tự Unicode (Tiếng Việt là OK)\n",
            "✅ Mẫu 31 có ký tự Unicode (Tiếng Việt là OK)\n",
            "✅ Mẫu 31 có ký tự Unicode (Tiếng Việt là OK)\n",
            "✅ Mẫu 32 có ký tự Unicode (Tiếng Việt là OK)\n",
            "✅ Mẫu 32 có ký tự Unicode (Tiếng Việt là OK)\n",
            "✅ Mẫu 33 có ký tự Unicode (Tiếng Việt là OK)\n",
            "✅ Mẫu 33 có ký tự Unicode (Tiếng Việt là OK)\n",
            "✅ Mẫu 34 có ký tự Unicode (Tiếng Việt là OK)\n",
            "✅ Mẫu 34 có ký tự Unicode (Tiếng Việt là OK)\n",
            "✅ Mẫu 35 có ký tự Unicode (Tiếng Việt là OK)\n",
            "✅ Mẫu 35 có ký tự Unicode (Tiếng Việt là OK)\n",
            "✅ Mẫu 36 có ký tự Unicode (Tiếng Việt là OK)\n",
            "✅ Mẫu 36 có ký tự Unicode (Tiếng Việt là OK)\n",
            "✅ Mẫu 37 có ký tự Unicode (Tiếng Việt là OK)\n",
            "✅ Mẫu 37 có ký tự Unicode (Tiếng Việt là OK)\n",
            "✅ Mẫu 38 có ký tự Unicode (Tiếng Việt là OK)\n",
            "✅ Mẫu 38 có ký tự Unicode (Tiếng Việt là OK)\n",
            "✅ Mẫu 39 có ký tự Unicode (Tiếng Việt là OK)\n",
            "✅ Mẫu 39 có ký tự Unicode (Tiếng Việt là OK)\n",
            "✅ Mẫu 40 có ký tự Unicode (Tiếng Việt là OK)\n",
            "✅ Mẫu 40 có ký tự Unicode (Tiếng Việt là OK)\n",
            "✅ Mẫu 41 có ký tự Unicode (Tiếng Việt là OK)\n",
            "✅ Mẫu 41 có ký tự Unicode (Tiếng Việt là OK)\n",
            "✅ Mẫu 42 có ký tự Unicode (Tiếng Việt là OK)\n",
            "✅ Mẫu 42 có ký tự Unicode (Tiếng Việt là OK)\n",
            "✅ Mẫu 43 có ký tự Unicode (Tiếng Việt là OK)\n",
            "✅ Mẫu 43 có ký tự Unicode (Tiếng Việt là OK)\n",
            "✅ Mẫu 44 có ký tự Unicode (Tiếng Việt là OK)\n",
            "✅ Mẫu 44 có ký tự Unicode (Tiếng Việt là OK)\n",
            "✅ Mẫu 45 có ký tự Unicode (Tiếng Việt là OK)\n",
            "✅ Mẫu 45 có ký tự Unicode (Tiếng Việt là OK)\n",
            "✅ Mẫu 46 có ký tự Unicode (Tiếng Việt là OK)\n",
            "✅ Mẫu 46 có ký tự Unicode (Tiếng Việt là OK)\n",
            "✅ Mẫu 47 có ký tự Unicode (Tiếng Việt là OK)\n",
            "✅ Mẫu 47 có ký tự Unicode (Tiếng Việt là OK)\n",
            "✅ Mẫu 48 có ký tự Unicode (Tiếng Việt là OK)\n",
            "✅ Mẫu 48 có ký tự Unicode (Tiếng Việt là OK)\n",
            "✅ Mẫu 49 có ký tự Unicode (Tiếng Việt là OK)\n",
            "✅ Mẫu 49 có ký tự Unicode (Tiếng Việt là OK)\n",
            "✅ Mẫu 50 có ký tự Unicode (Tiếng Việt là OK)\n",
            "✅ Mẫu 50 có ký tự Unicode (Tiếng Việt là OK)\n",
            "✅ Mẫu 51 có ký tự Unicode (Tiếng Việt là OK)\n",
            "✅ Mẫu 51 có ký tự Unicode (Tiếng Việt là OK)\n",
            "✅ Mẫu 52 có ký tự Unicode (Tiếng Việt là OK)\n",
            "✅ Mẫu 52 có ký tự Unicode (Tiếng Việt là OK)\n",
            "✅ Mẫu 53 có ký tự Unicode (Tiếng Việt là OK)\n",
            "✅ Mẫu 53 có ký tự Unicode (Tiếng Việt là OK)\n",
            "✅ Mẫu 54 có ký tự Unicode (Tiếng Việt là OK)\n",
            "✅ Mẫu 54 có ký tự Unicode (Tiếng Việt là OK)\n",
            "✅ Mẫu 55 có ký tự Unicode (Tiếng Việt là OK)\n",
            "✅ Mẫu 55 có ký tự Unicode (Tiếng Việt là OK)\n",
            "✅ Mẫu 56 có ký tự Unicode (Tiếng Việt là OK)\n",
            "✅ Mẫu 56 có ký tự Unicode (Tiếng Việt là OK)\n",
            "✅ Mẫu 57 có ký tự Unicode (Tiếng Việt là OK)\n",
            "✅ Mẫu 57 có ký tự Unicode (Tiếng Việt là OK)\n",
            "✅ Mẫu 58 có ký tự Unicode (Tiếng Việt là OK)\n",
            "✅ Mẫu 58 có ký tự Unicode (Tiếng Việt là OK)\n",
            "✅ Mẫu 59 có ký tự Unicode (Tiếng Việt là OK)\n",
            "✅ Mẫu 59 có ký tự Unicode (Tiếng Việt là OK)\n",
            "✅ Mẫu 60 có ký tự Unicode (Tiếng Việt là OK)\n",
            "✅ Mẫu 60 có ký tự Unicode (Tiếng Việt là OK)\n",
            "✅ Mẫu 61 có ký tự Unicode (Tiếng Việt là OK)\n",
            "✅ Mẫu 61 có ký tự Unicode (Tiếng Việt là OK)\n",
            "✅ Mẫu 62 có ký tự Unicode (Tiếng Việt là OK)\n",
            "✅ Mẫu 62 có ký tự Unicode (Tiếng Việt là OK)\n",
            "✅ Mẫu 63 có ký tự Unicode (Tiếng Việt là OK)\n",
            "✅ Mẫu 63 có ký tự Unicode (Tiếng Việt là OK)\n",
            "✅ Mẫu 64 có ký tự Unicode (Tiếng Việt là OK)\n",
            "✅ Mẫu 64 có ký tự Unicode (Tiếng Việt là OK)\n",
            "✅ Mẫu 65 có ký tự Unicode (Tiếng Việt là OK)\n",
            "✅ Mẫu 65 có ký tự Unicode (Tiếng Việt là OK)\n",
            "✅ Mẫu 66 có ký tự Unicode (Tiếng Việt là OK)\n",
            "✅ Mẫu 66 có ký tự Unicode (Tiếng Việt là OK)\n",
            "✅ Mẫu 67 có ký tự Unicode (Tiếng Việt là OK)\n",
            "✅ Mẫu 67 có ký tự Unicode (Tiếng Việt là OK)\n",
            "✅ Mẫu 68 có ký tự Unicode (Tiếng Việt là OK)\n",
            "✅ Mẫu 68 có ký tự Unicode (Tiếng Việt là OK)\n",
            "✅ Mẫu 69 có ký tự Unicode (Tiếng Việt là OK)\n",
            "✅ Mẫu 69 có ký tự Unicode (Tiếng Việt là OK)\n",
            "✅ Mẫu 70 có ký tự Unicode (Tiếng Việt là OK)\n",
            "✅ Mẫu 70 có ký tự Unicode (Tiếng Việt là OK)\n",
            "✅ Mẫu 71 có ký tự Unicode (Tiếng Việt là OK)\n",
            "✅ Mẫu 71 có ký tự Unicode (Tiếng Việt là OK)\n",
            "✅ Mẫu 72 có ký tự Unicode (Tiếng Việt là OK)\n",
            "✅ Mẫu 72 có ký tự Unicode (Tiếng Việt là OK)\n",
            "✅ Mẫu 73 có ký tự Unicode (Tiếng Việt là OK)\n",
            "✅ Mẫu 73 có ký tự Unicode (Tiếng Việt là OK)\n",
            "✅ Mẫu 74 có ký tự Unicode (Tiếng Việt là OK)\n",
            "✅ Mẫu 74 có ký tự Unicode (Tiếng Việt là OK)\n",
            "✅ Mẫu 75 có ký tự Unicode (Tiếng Việt là OK)\n",
            "✅ Mẫu 75 có ký tự Unicode (Tiếng Việt là OK)\n",
            "✅ Mẫu 76 có ký tự Unicode (Tiếng Việt là OK)\n",
            "✅ Mẫu 76 có ký tự Unicode (Tiếng Việt là OK)\n",
            "✅ Mẫu 77 có ký tự Unicode (Tiếng Việt là OK)\n",
            "✅ Mẫu 77 có ký tự Unicode (Tiếng Việt là OK)\n",
            "✅ Mẫu 78 có ký tự Unicode (Tiếng Việt là OK)\n",
            "✅ Mẫu 78 có ký tự Unicode (Tiếng Việt là OK)\n",
            "✅ Mẫu 79 có ký tự Unicode (Tiếng Việt là OK)\n",
            "✅ Mẫu 79 có ký tự Unicode (Tiếng Việt là OK)\n",
            "✅ Mẫu 80 có ký tự Unicode (Tiếng Việt là OK)\n",
            "✅ Mẫu 80 có ký tự Unicode (Tiếng Việt là OK)\n",
            "✅ Mẫu 81 có ký tự Unicode (Tiếng Việt là OK)\n",
            "✅ Mẫu 81 có ký tự Unicode (Tiếng Việt là OK)\n",
            "✅ Mẫu 82 có ký tự Unicode (Tiếng Việt là OK)\n",
            "✅ Mẫu 82 có ký tự Unicode (Tiếng Việt là OK)\n",
            "✅ Mẫu 83 có ký tự Unicode (Tiếng Việt là OK)\n",
            "✅ Mẫu 83 có ký tự Unicode (Tiếng Việt là OK)\n",
            "✅ Mẫu 84 có ký tự Unicode (Tiếng Việt là OK)\n",
            "✅ Mẫu 84 có ký tự Unicode (Tiếng Việt là OK)\n",
            "✅ Mẫu 85 có ký tự Unicode (Tiếng Việt là OK)\n",
            "✅ Mẫu 85 có ký tự Unicode (Tiếng Việt là OK)\n",
            "✅ Mẫu 86 có ký tự Unicode (Tiếng Việt là OK)\n",
            "✅ Mẫu 86 có ký tự Unicode (Tiếng Việt là OK)\n",
            "✅ Mẫu 87 có ký tự Unicode (Tiếng Việt là OK)\n",
            "✅ Mẫu 87 có ký tự Unicode (Tiếng Việt là OK)\n",
            "✅ Mẫu 88 có ký tự Unicode (Tiếng Việt là OK)\n",
            "✅ Mẫu 88 có ký tự Unicode (Tiếng Việt là OK)\n",
            "✅ Mẫu 89 có ký tự Unicode (Tiếng Việt là OK)\n",
            "✅ Mẫu 89 có ký tự Unicode (Tiếng Việt là OK)\n",
            "✅ Mẫu 90 có ký tự Unicode (Tiếng Việt là OK)\n",
            "✅ Mẫu 90 có ký tự Unicode (Tiếng Việt là OK)\n",
            "✅ Mẫu 91 có ký tự Unicode (Tiếng Việt là OK)\n",
            "✅ Mẫu 91 có ký tự Unicode (Tiếng Việt là OK)\n",
            "✅ Mẫu 92 có ký tự Unicode (Tiếng Việt là OK)\n",
            "✅ Mẫu 92 có ký tự Unicode (Tiếng Việt là OK)\n",
            "✅ Mẫu 93 có ký tự Unicode (Tiếng Việt là OK)\n",
            "✅ Mẫu 93 có ký tự Unicode (Tiếng Việt là OK)\n",
            "✅ Mẫu 94 có ký tự Unicode (Tiếng Việt là OK)\n",
            "✅ Mẫu 94 có ký tự Unicode (Tiếng Việt là OK)\n",
            "✅ Mẫu 95 có ký tự Unicode (Tiếng Việt là OK)\n",
            "✅ Mẫu 95 có ký tự Unicode (Tiếng Việt là OK)\n",
            "✅ Mẫu 96 có ký tự Unicode (Tiếng Việt là OK)\n",
            "✅ Mẫu 96 có ký tự Unicode (Tiếng Việt là OK)\n",
            "✅ Mẫu 97 có ký tự Unicode (Tiếng Việt là OK)\n",
            "✅ Mẫu 97 có ký tự Unicode (Tiếng Việt là OK)\n",
            "✅ Mẫu 98 có ký tự Unicode (Tiếng Việt là OK)\n",
            "✅ Mẫu 98 có ký tự Unicode (Tiếng Việt là OK)\n",
            "✅ Mẫu 99 có ký tự Unicode (Tiếng Việt là OK)\n",
            "✅ Mẫu 99 có ký tự Unicode (Tiếng Việt là OK)\n",
            "✅ Kiểm tra xong!\n"
          ]
        }
      ]
    },
    {
      "cell_type": "code",
      "execution_count": null,
      "metadata": {
        "id": "SOUowIv1HgSE",
        "colab": {
          "base_uri": "https://localhost:8080/",
          "height": 49,
          "referenced_widgets": [
            "81b56f7b6ca64ee783430bb3b4fd1758",
            "735275256fc941c899c48c710ea9bd20",
            "312d3cda1029466c96bba74577875571",
            "238fc4ade8544700af82725b63b09c7c",
            "8a66d17e1f3b4656800d0332f2d76e20",
            "a57f8cf01eb24386a9a6e660a91cfb72",
            "f8214368a9034be38f7a93a1f1b25422",
            "353ec3fbfe01448f84f270083b79d3e2",
            "052e15dd29134e35a61c3c9167263a4a",
            "fa70414c35474c52bfe61cd04596770a",
            "797a6c7313024626bbabe2edfc7afffb"
          ]
        },
        "outputId": "e33c7383-cd56-4bf5-ff6c-2698c8b3cd7e"
      },
      "outputs": [
        {
          "output_type": "display_data",
          "data": {
            "text/plain": [
              "  0%|          | 0/16 [00:00<?, ?it/s]"
            ],
            "application/vnd.jupyter.widget-view+json": {
              "version_major": 2,
              "version_minor": 0,
              "model_id": "81b56f7b6ca64ee783430bb3b4fd1758"
            }
          },
          "metadata": {}
        }
      ],
      "source": [
        "import time\n",
        "\n",
        "for status in operation.wait_bar():\n",
        "  time.sleep(30)"
      ]
    },
    {
      "cell_type": "code",
      "execution_count": null,
      "metadata": {
        "id": "oQuJ70_hqJi9"
      },
      "outputs": [],
      "source": [
        "operation.cancel()"
      ]
    },
    {
      "cell_type": "code",
      "execution_count": 100,
      "metadata": {
        "id": "bIiG57xWLhP7",
        "colab": {
          "base_uri": "https://localhost:8080/",
          "height": 1000
        },
        "outputId": "dbcddd0b-ea60-4152-fe1e-7e0d2ba8aca9"
      },
      "outputs": [
        {
          "output_type": "stream",
          "name": "stdout",
          "text": [
            "📊 Các cột trong snapshot: Index(['step', 'mean_loss', 'compute_time', 'epoch'], dtype='object')\n",
            "🔍 Dữ liệu mẫu:\n",
            "   step   mean_loss                     compute_time  epoch\n",
            "0     1   205.89761 2025-04-09 15:02:23.529817+00:00    NaN\n",
            "1     2  1962.59640 2025-04-09 15:02:40.362033+00:00    NaN\n",
            "2     3  3092.90720 2025-04-09 15:02:58.288374+00:00    NaN\n",
            "3     4  1750.41520 2025-04-09 15:03:16.203262+00:00    NaN\n",
            "4     5  1209.90480 2025-04-09 15:03:35.515945+00:00    NaN\n"
          ]
        },
        {
          "output_type": "display_data",
          "data": {
            "text/plain": [
              "<Figure size 1000x500 with 1 Axes>"
            ],
            "image/png": "[encoded data removed]"
          },
          "metadata": {}
        },
        {
          "output_type": "error",
          "ename": "ValueError",
          "evalue": "Could not interpret value `min_loss` for `y`. An entry with this name does not appear in `data`.",
          "traceback": [
            "\u001b[0;31m---------------------------------------------------------------------------\u001b[0m",
            "\u001b[0;31mValueError\u001b[0m                                Traceback (most recent call last)",
            "\u001b[0;32m<ipython-input-100-39576071b375>\u001b[0m in \u001b[0;36m<cell line: 0>\u001b[0;34m()\u001b[0m\n\u001b[1;32m     38\u001b[0m \u001b[0mplt\u001b[0m\u001b[0;34m.\u001b[0m\u001b[0mfigure\u001b[0m\u001b[0;34m(\u001b[0m\u001b[0mfigsize\u001b[0m\u001b[0;34m=\u001b[0m\u001b[0;34m(\u001b[0m\u001b[0;36m10\u001b[0m\u001b[0;34m,\u001b[0m \u001b[0;36m5\u001b[0m\u001b[0;34m)\u001b[0m\u001b[0;34m)\u001b[0m\u001b[0;34m\u001b[0m\u001b[0;34m\u001b[0m\u001b[0m\n\u001b[1;32m     39\u001b[0m \u001b[0msns\u001b[0m\u001b[0;34m.\u001b[0m\u001b[0mlineplot\u001b[0m\u001b[0;34m(\u001b[0m\u001b[0mdata\u001b[0m\u001b[0;34m=\u001b[0m\u001b[0msnapshots\u001b[0m\u001b[0;34m,\u001b[0m \u001b[0mx\u001b[0m\u001b[0;34m=\u001b[0m\u001b[0;34m'epoch'\u001b[0m\u001b[0;34m,\u001b[0m \u001b[0my\u001b[0m\u001b[0;34m=\u001b[0m\u001b[0;34m'mean_loss'\u001b[0m\u001b[0;34m,\u001b[0m \u001b[0mlabel\u001b[0m\u001b[0;34m=\u001b[0m\u001b[0;34m'Mean Loss'\u001b[0m\u001b[0;34m,\u001b[0m \u001b[0mmarker\u001b[0m\u001b[0;34m=\u001b[0m\u001b[0;34m'o'\u001b[0m\u001b[0;34m)\u001b[0m\u001b[0;34m\u001b[0m\u001b[0;34m\u001b[0m\u001b[0m\n\u001b[0;32m---> 40\u001b[0;31m \u001b[0msns\u001b[0m\u001b[0;34m.\u001b[0m\u001b[0mlineplot\u001b[0m\u001b[0;34m(\u001b[0m\u001b[0mdata\u001b[0m\u001b[0;34m=\u001b[0m\u001b[0msnapshots\u001b[0m\u001b[0;34m,\u001b[0m \u001b[0mx\u001b[0m\u001b[0;34m=\u001b[0m\u001b[0;34m'epoch'\u001b[0m\u001b[0;34m,\u001b[0m \u001b[0my\u001b[0m\u001b[0;34m=\u001b[0m\u001b[0;34m'min_loss'\u001b[0m\u001b[0;34m,\u001b[0m \u001b[0mlabel\u001b[0m\u001b[0;34m=\u001b[0m\u001b[0;34m'Min Loss'\u001b[0m\u001b[0;34m,\u001b[0m \u001b[0mlinestyle\u001b[0m\u001b[0;34m=\u001b[0m\u001b[0;34m'--'\u001b[0m\u001b[0;34m)\u001b[0m\u001b[0;34m\u001b[0m\u001b[0;34m\u001b[0m\u001b[0m\n\u001b[0m\u001b[1;32m     41\u001b[0m \u001b[0msns\u001b[0m\u001b[0;34m.\u001b[0m\u001b[0mlineplot\u001b[0m\u001b[0;34m(\u001b[0m\u001b[0mdata\u001b[0m\u001b[0;34m=\u001b[0m\u001b[0msnapshots\u001b[0m\u001b[0;34m,\u001b[0m \u001b[0mx\u001b[0m\u001b[0;34m=\u001b[0m\u001b[0;34m'epoch'\u001b[0m\u001b[0;34m,\u001b[0m \u001b[0my\u001b[0m\u001b[0;34m=\u001b[0m\u001b[0;34m'max_loss'\u001b[0m\u001b[0;34m,\u001b[0m \u001b[0mlabel\u001b[0m\u001b[0;34m=\u001b[0m\u001b[0;34m'Max Loss'\u001b[0m\u001b[0;34m,\u001b[0m \u001b[0mlinestyle\u001b[0m\u001b[0;34m=\u001b[0m\u001b[0;34m'--'\u001b[0m\u001b[0;34m)\u001b[0m\u001b[0;34m\u001b[0m\u001b[0;34m\u001b[0m\u001b[0m\n\u001b[1;32m     42\u001b[0m \u001b[0mplt\u001b[0m\u001b[0;34m.\u001b[0m\u001b[0mtitle\u001b[0m\u001b[0;34m(\u001b[0m\u001b[0;34m'So sánh Min / Mean / Max Loss theo Epoch'\u001b[0m\u001b[0;34m)\u001b[0m\u001b[0;34m\u001b[0m\u001b[0;34m\u001b[0m\u001b[0m\n",
            "\u001b[0;32m/usr/local/lib/python3.11/dist-packages/seaborn/relational.py\u001b[0m in \u001b[0;36mlineplot\u001b[0;34m(data, x, y, hue, size, style, units, weights, palette, hue_order, hue_norm, sizes, size_order, size_norm, dashes, markers, style_order, estimator, errorbar, n_boot, seed, orient, sort, err_style, err_kws, legend, ci, ax, **kwargs)\u001b[0m\n\u001b[1;32m    483\u001b[0m     \u001b[0merrorbar\u001b[0m \u001b[0;34m=\u001b[0m \u001b[0m_deprecate_ci\u001b[0m\u001b[0;34m(\u001b[0m\u001b[0merrorbar\u001b[0m\u001b[0;34m,\u001b[0m \u001b[0mci\u001b[0m\u001b[0;34m)\u001b[0m\u001b[0;34m\u001b[0m\u001b[0;34m\u001b[0m\u001b[0m\n\u001b[1;32m    484\u001b[0m \u001b[0;34m\u001b[0m\u001b[0m\n\u001b[0;32m--> 485\u001b[0;31m     p = _LinePlotter(\n\u001b[0m\u001b[1;32m    486\u001b[0m         \u001b[0mdata\u001b[0m\u001b[0;34m=\u001b[0m\u001b[0mdata\u001b[0m\u001b[0;34m,\u001b[0m\u001b[0;34m\u001b[0m\u001b[0;34m\u001b[0m\u001b[0m\n\u001b[1;32m    487\u001b[0m         variables=dict(\n",
            "\u001b[0;32m/usr/local/lib/python3.11/dist-packages/seaborn/relational.py\u001b[0m in \u001b[0;36m__init__\u001b[0;34m(self, data, variables, estimator, n_boot, seed, errorbar, sort, orient, err_style, err_kws, legend)\u001b[0m\n\u001b[1;32m    214\u001b[0m         )\n\u001b[1;32m    215\u001b[0m \u001b[0;34m\u001b[0m\u001b[0m\n\u001b[0;32m--> 216\u001b[0;31m         \u001b[0msuper\u001b[0m\u001b[0;34m(\u001b[0m\u001b[0;34m)\u001b[0m\u001b[0;34m.\u001b[0m\u001b[0m__init__\u001b[0m\u001b[0;34m(\u001b[0m\u001b[0mdata\u001b[0m\u001b[0;34m=\u001b[0m\u001b[0mdata\u001b[0m\u001b[0;34m,\u001b[0m \u001b[0mvariables\u001b[0m\u001b[0;34m=\u001b[0m\u001b[0mvariables\u001b[0m\u001b[0;34m)\u001b[0m\u001b[0;34m\u001b[0m\u001b[0;34m\u001b[0m\u001b[0m\n\u001b[0m\u001b[1;32m    217\u001b[0m \u001b[0;34m\u001b[0m\u001b[0m\n\u001b[1;32m    218\u001b[0m         \u001b[0mself\u001b[0m\u001b[0;34m.\u001b[0m\u001b[0mestimator\u001b[0m \u001b[0;34m=\u001b[0m \u001b[0mestimator\u001b[0m\u001b[0;34m\u001b[0m\u001b[0;34m\u001b[0m\u001b[0m\n",
            "\u001b[0;32m/usr/local/lib/python3.11/dist-packages/seaborn/_base.py\u001b[0m in \u001b[0;36m__init__\u001b[0;34m(self, data, variables)\u001b[0m\n\u001b[1;32m    632\u001b[0m         \u001b[0;31m# information for numeric axes would be information about log scales.\u001b[0m\u001b[0;34m\u001b[0m\u001b[0;34m\u001b[0m\u001b[0m\n\u001b[1;32m    633\u001b[0m         \u001b[0mself\u001b[0m\u001b[0;34m.\u001b[0m\u001b[0m_var_ordered\u001b[0m \u001b[0;34m=\u001b[0m \u001b[0;34m{\u001b[0m\u001b[0;34m\"x\"\u001b[0m\u001b[0;34m:\u001b[0m \u001b[0;32mFalse\u001b[0m\u001b[0;34m,\u001b[0m \u001b[0;34m\"y\"\u001b[0m\u001b[0;34m:\u001b[0m \u001b[0;32mFalse\u001b[0m\u001b[0;34m}\u001b[0m  \u001b[0;31m# alt., used DefaultDict\u001b[0m\u001b[0;34m\u001b[0m\u001b[0;34m\u001b[0m\u001b[0m\n\u001b[0;32m--> 634\u001b[0;31m         \u001b[0mself\u001b[0m\u001b[0;34m.\u001b[0m\u001b[0massign_variables\u001b[0m\u001b[0;34m(\u001b[0m\u001b[0mdata\u001b[0m\u001b[0;34m,\u001b[0m \u001b[0mvariables\u001b[0m\u001b[0;34m)\u001b[0m\u001b[0;34m\u001b[0m\u001b[0;34m\u001b[0m\u001b[0m\n\u001b[0m\u001b[1;32m    635\u001b[0m \u001b[0;34m\u001b[0m\u001b[0m\n\u001b[1;32m    636\u001b[0m         \u001b[0;31m# TODO Lots of tests assume that these are called to initialize the\u001b[0m\u001b[0;34m\u001b[0m\u001b[0;34m\u001b[0m\u001b[0m\n",
            "\u001b[0;32m/usr/local/lib/python3.11/dist-packages/seaborn/_base.py\u001b[0m in \u001b[0;36massign_variables\u001b[0;34m(self, data, variables)\u001b[0m\n\u001b[1;32m    677\u001b[0m             \u001b[0;31m# to centralize / standardize data consumption logic.\u001b[0m\u001b[0;34m\u001b[0m\u001b[0;34m\u001b[0m\u001b[0m\n\u001b[1;32m    678\u001b[0m             \u001b[0mself\u001b[0m\u001b[0;34m.\u001b[0m\u001b[0minput_format\u001b[0m \u001b[0;34m=\u001b[0m \u001b[0;34m\"long\"\u001b[0m\u001b[0;34m\u001b[0m\u001b[0;34m\u001b[0m\u001b[0m\n\u001b[0;32m--> 679\u001b[0;31m             \u001b[0mplot_data\u001b[0m \u001b[0;34m=\u001b[0m \u001b[0mPlotData\u001b[0m\u001b[0;34m(\u001b[0m\u001b[0mdata\u001b[0m\u001b[0;34m,\u001b[0m \u001b[0mvariables\u001b[0m\u001b[0;34m)\u001b[0m\u001b[0;34m\u001b[0m\u001b[0;34m\u001b[0m\u001b[0m\n\u001b[0m\u001b[1;32m    680\u001b[0m             \u001b[0mframe\u001b[0m \u001b[0;34m=\u001b[0m \u001b[0mplot_data\u001b[0m\u001b[0;34m.\u001b[0m\u001b[0mframe\u001b[0m\u001b[0;34m\u001b[0m\u001b[0;34m\u001b[0m\u001b[0m\n\u001b[1;32m    681\u001b[0m             \u001b[0mnames\u001b[0m \u001b[0;34m=\u001b[0m \u001b[0mplot_data\u001b[0m\u001b[0;34m.\u001b[0m\u001b[0mnames\u001b[0m\u001b[0;34m\u001b[0m\u001b[0;34m\u001b[0m\u001b[0m\n",
            "\u001b[0;32m/usr/local/lib/python3.11/dist-packages/seaborn/_core/data.py\u001b[0m in \u001b[0;36m__init__\u001b[0;34m(self, data, variables)\u001b[0m\n\u001b[1;32m     56\u001b[0m \u001b[0;34m\u001b[0m\u001b[0m\n\u001b[1;32m     57\u001b[0m         \u001b[0mdata\u001b[0m \u001b[0;34m=\u001b[0m \u001b[0mhandle_data_source\u001b[0m\u001b[0;34m(\u001b[0m\u001b[0mdata\u001b[0m\u001b[0;34m)\u001b[0m\u001b[0;34m\u001b[0m\u001b[0;34m\u001b[0m\u001b[0m\n\u001b[0;32m---> 58\u001b[0;31m         \u001b[0mframe\u001b[0m\u001b[0;34m,\u001b[0m \u001b[0mnames\u001b[0m\u001b[0;34m,\u001b[0m \u001b[0mids\u001b[0m \u001b[0;34m=\u001b[0m \u001b[0mself\u001b[0m\u001b[0;34m.\u001b[0m\u001b[0m_assign_variables\u001b[0m\u001b[0;34m(\u001b[0m\u001b[0mdata\u001b[0m\u001b[0;34m,\u001b[0m \u001b[0mvariables\u001b[0m\u001b[0;34m)\u001b[0m\u001b[0;34m\u001b[0m\u001b[0;34m\u001b[0m\u001b[0m\n\u001b[0m\u001b[1;32m     59\u001b[0m \u001b[0;34m\u001b[0m\u001b[0m\n\u001b[1;32m     60\u001b[0m         \u001b[0mself\u001b[0m\u001b[0;34m.\u001b[0m\u001b[0mframe\u001b[0m \u001b[0;34m=\u001b[0m \u001b[0mframe\u001b[0m\u001b[0;34m\u001b[0m\u001b[0;34m\u001b[0m\u001b[0m\n",
            "\u001b[0;32m/usr/local/lib/python3.11/dist-packages/seaborn/_core/data.py\u001b[0m in \u001b[0;36m_assign_variables\u001b[0;34m(self, data, variables)\u001b[0m\n\u001b[1;32m    230\u001b[0m                 \u001b[0;32melse\u001b[0m\u001b[0;34m:\u001b[0m\u001b[0;34m\u001b[0m\u001b[0;34m\u001b[0m\u001b[0m\n\u001b[1;32m    231\u001b[0m                     \u001b[0merr\u001b[0m \u001b[0;34m+=\u001b[0m \u001b[0;34m\"An entry with this name does not appear in `data`.\"\u001b[0m\u001b[0;34m\u001b[0m\u001b[0;34m\u001b[0m\u001b[0m\n\u001b[0;32m--> 232\u001b[0;31m                 \u001b[0;32mraise\u001b[0m \u001b[0mValueError\u001b[0m\u001b[0;34m(\u001b[0m\u001b[0merr\u001b[0m\u001b[0;34m)\u001b[0m\u001b[0;34m\u001b[0m\u001b[0;34m\u001b[0m\u001b[0m\n\u001b[0m\u001b[1;32m    233\u001b[0m \u001b[0;34m\u001b[0m\u001b[0m\n\u001b[1;32m    234\u001b[0m             \u001b[0;32melse\u001b[0m\u001b[0;34m:\u001b[0m\u001b[0;34m\u001b[0m\u001b[0;34m\u001b[0m\u001b[0m\n",
            "\u001b[0;31mValueError\u001b[0m: Could not interpret value `min_loss` for `y`. An entry with this name does not appear in `data`."
          ]
        },
        {
          "output_type": "display_data",
          "data": {
            "text/plain": [
              "<Figure size 1000x500 with 1 Axes>"
            ],
            "image/png": "[encoded data removed]"
          },
          "metadata": {}
        }
      ],
      "source": [
        "import pandas as pd\n",
        "import seaborn as sns\n",
        "import matplotlib.pyplot as plt\n",
        "\n",
        "# Lấy mô hình đã huấn luyện hoàn tất\n",
        "model = operation.result()\n",
        "\n",
        "# Truy xuất thông tin huấn luyện (snapshot theo epoch)\n",
        "snapshots = pd.DataFrame(model.tuning_task.snapshots)\n",
        "\n",
        "# Hiển thị thông tin cơ bản\n",
        "print(\"📊 Các cột trong snapshot:\", snapshots.columns)\n",
        "print(\"🔍 Dữ liệu mẫu:\")\n",
        "print(snapshots.head())\n",
        "\n",
        "# ------------------------------------------\n",
        "# 🔵 BIỂU ĐỒ 1: Biểu diễn Mean Loss theo Epoch\n",
        "# ------------------------------------------\n",
        "plt.figure(figsize=(10, 5))\n",
        "sns.lineplot(data=snapshots, x='epoch', y='mean_loss', label='Mean Loss', marker='o')\n",
        "plt.title('Biểu đồ Mean Loss theo Epoch')\n",
        "plt.xlabel('Epoch')\n",
        "plt.ylabel('Mean Loss')\n",
        "plt.grid(True)\n",
        "plt.legend()\n",
        "plt.show()\n",
        "\n",
        "\"\"\"\n",
        "📘 Giải thích:\n",
        "- \"Mean Loss\" là trung bình sai số của mô hình trên tập huấn luyện tại mỗi epoch.\n",
        "- Đường biểu diễn càng giảm → mô hình học càng tốt.\n",
        "- Nếu đường phẳng → mô hình có thể học chậm hoặc đã đạt ngưỡng.\n",
        "\"\"\"\n",
        "\n",
        "# ------------------------------------------\n",
        "# 🟠 BIỂU ĐỒ 2: So sánh Min / Max / Mean Loss\n",
        "# ------------------------------------------\n",
        "plt.figure(figsize=(10, 5))\n",
        "sns.lineplot(data=snapshots, x='epoch', y='mean_loss', label='Mean Loss', marker='o')\n",
        "sns.lineplot(data=snapshots, x='epoch', y='min_loss', label='Min Loss', linestyle='--')\n",
        "sns.lineplot(data=snapshots, x='epoch', y='max_loss', label='Max Loss', linestyle='--')\n",
        "plt.title('So sánh Min / Mean / Max Loss theo Epoch')\n",
        "plt.xlabel('Epoch')\n",
        "plt.ylabel('Loss')\n",
        "plt.grid(True)\n",
        "plt.legend()\n",
        "plt.show()\n",
        "\n",
        "\"\"\"\n",
        "📘 Giải thích:\n",
        "- Min/Max Loss thể hiện khoảng dao động của loss trên các batch trong 1 epoch.\n",
        "- Nếu Min và Max cách nhau quá xa → batch huấn luyện không ổn định.\n",
        "- Đường Mean Loss nằm gần Min → tốt; nếu gần Max → có thể đang overfit.\n",
        "\"\"\"\n",
        "\n",
        "# ------------------------------------------\n",
        "# 🟢 THỐNG KÊ MỨC GIẢM LOSS TOÀN BỘ\n",
        "# ------------------------------------------\n",
        "start_loss = snapshots['mean_loss'].iloc[0]\n",
        "end_loss = snapshots['mean_loss'].iloc[-1]\n",
        "loss_reduction = start_loss - end_loss\n",
        "loss_percent = (loss_reduction / start_loss) * 100\n",
        "\n",
        "print(f\"\\n📉 Mean loss giảm từ {start_loss:.4f} xuống {end_loss:.4f} ({loss_percent:.2f}%)\")\n",
        "\n",
        "\"\"\"\n",
        "📘 Giải thích:\n",
        "- Đây là thống kê mức độ cải thiện của mô hình trong suốt quá trình huấn luyện.\n",
        "- Nếu giảm > 50%: mô hình học khá tốt.\n",
        "- Nếu giảm ít hoặc tăng → cần điều chỉnh lại learning rate, batch size, hoặc chất lượng dữ liệu.\n",
        "\"\"\"\n",
        "\n",
        "# ------------------------------------------\n",
        "# 🔻 BIỂU ĐỒ 3: Tốc độ thay đổi loss qua từng Epoch\n",
        "# ------------------------------------------\n",
        "snapshots['loss_change'] = snapshots['mean_loss'].diff()\n",
        "\n",
        "plt.figure(figsize=(10, 5))\n",
        "sns.barplot(data=snapshots[1:], x='epoch', y='loss_change', palette='coolwarm')  # bỏ epoch 0 (NaN diff)\n",
        "plt.title('Tốc độ thay đổi Mean Loss giữa các Epoch')\n",
        "plt.xlabel('Epoch')\n",
        "plt.ylabel('Δ Mean Loss')\n",
        "plt.grid(True)\n",
        "plt.axhline(0, color='black', linestyle='--')\n",
        "plt.show()\n",
        "\n",
        "\"\"\"\n",
        "📘 Giải thích:\n",
        "- Cột dương → Loss giảm → mô hình học hiệu quả ở epoch đó.\n",
        "- Cột âm → Loss tăng → mô hình bị sai lệch hoặc dữ liệu nhiễu.\n",
        "- Nếu biểu đồ giảm dần đều → rất tốt.\n",
        "- Nếu có nhiều dao động lên xuống → cần xem lại dữ liệu đầu vào.\n",
        "\"\"\"\n"
      ]
    },
    {
      "cell_type": "code",
      "source": [
        "from google.generativeai import GenerativeModel\n",
        "\n",
        "model_name = \"tunedModels/generate-num-3563\"  # thay bằng tên model của bạn\n",
        "model = genai.GenerativeModel(model_name)\n",
        "\n",
        "start = time()\n",
        "response = model.generate_content(\"Tạo một câu hỏi trắc nghiệm lớp 11 môn Toán lớp 11\")\n",
        "end = time()\n",
        "\n",
        "print(\"✅ Câu hỏi sinh ra:\", response.text)\n",
        "print(\"🕒 Thời gian sinh câu hỏi:\", round(end - start, 2), \"giây\")\n"
      ],
      "metadata": {
        "colab": {
          "base_uri": "https://localhost:8080/",
          "height": 307
        },
        "id": "Vz2Q3PrkTkjc",
        "outputId": "4ae0665c-96d2-47a7-892f-12f6793807dc"
      },
      "execution_count": 106,
      "outputs": [
        {
          "output_type": "stream",
          "name": "stdout",
          "text": [
            "✅ Câu hỏi sinh ra:  ... có.\n",
            "\n",
            "\n",
            "..DA  của B đúng,.  đúngD.4. đúngC\n",
            ".D.1 án.\n",
            ".5D\n",
            "DDC\n",
            "DCAD A::, ... làA.A\n",
            "D. 19..áp nào1 đúng..\n",
            ".CCâu\n",
            "A1 ...Câu của,:\n",
            "\n",
            "\n",
            " C\n",
            " BĐ.\n",
            "🕒 Thời gian sinh câu hỏi: 4.58 giây\n"
          ]
        }
      ]
    },
    {
      "cell_type": "code",
      "source": [
        "# prompt = (\n",
        "#     \"Hãy tạo một câu hỏi trắc nghiệm lớp 11 môn Toán theo định dạng sau:\\n\\n\"\n",
        "#     \"Câu hỏi: ...?\\n\"\n",
        "#     \"A. ...\\nB. ...\\nC. ...\\nD. ...\\n\"\n",
        "#     \"Đáp án đúng: ...\"\n",
        "# )\n",
        "\n",
        "\n",
        "\n",
        "# response = model.generate_content(prompt)\n",
        "# print(response.text)\n",
        "prompt = (\n",
        "    \"Ví dụ:\\n\"\n",
        "    \"Câu hỏi: Hàm số y = x^2 có đạo hàm là?\\n\"\n",
        "    \"A. 2x\\nB. x\\nC. x^2\\nD. 1\\n\"\n",
        "    \"Đáp án đúng: A\\n\\n\"\n",
        "    \"Câu hỏi tiếp theo môn Toán lớp 11 là:\"\n",
        ")\n",
        "\n",
        "response = genai.GenerativeModel(\"gemini-1.5-pro\").generate_content(prompt)\n",
        "print(response.text)\n"
      ],
      "metadata": {
        "colab": {
          "base_uri": "https://localhost:8080/",
          "height": 144
        },
        "id": "TNzrZtw3VVCS",
        "outputId": "f9662228-8a07-47b3-e19f-d8c2c1fae78b"
      },
      "execution_count": 110,
      "outputs": [
        {
          "output_type": "stream",
          "name": "stdout",
          "text": [
            "Cho cấp số cộng (u_n) có u_1 = 3 và công sai d = 2. Số hạng thứ 5 của cấp số cộng này là?\n",
            "\n",
            "A. 11\n",
            "B. 13\n",
            "C. 15\n",
            "D. 17\n",
            "\n"
          ]
        }
      ]
    },
    {
      "cell_type": "code",
      "source": [
        "print(snapshots.columns)\n"
      ],
      "metadata": {
        "colab": {
          "base_uri": "https://localhost:8080/"
        },
        "id": "qkDGulx8UE2U",
        "outputId": "bef40e90-b5e0-4a30-dd47-bc438856f563"
      },
      "execution_count": 103,
      "outputs": [
        {
          "output_type": "stream",
          "name": "stdout",
          "text": [
            "Index(['step', 'mean_loss', 'compute_time', 'epoch'], dtype='object')\n"
          ]
        }
      ]
    },
    {
      "cell_type": "markdown",
      "metadata": {
        "id": "rkoQTXb1vSBC"
      },
      "source": [
        "## Evaluate model\n",
        "\n",
        "You can use the `genai.generate_content` method and specify the name of your model to test your model performance."
      ]
    },
    {
      "cell_type": "code",
      "execution_count": null,
      "metadata": {
        "id": "zO0YcuSyxydZ"
      },
      "outputs": [],
      "source": [
        "model = genai.GenerativeModel(model_name=f'tunedModels/{name}')"
      ]
    },
    {
      "cell_type": "markdown",
      "metadata": {
        "id": "nmuQCbTYwIOx"
      },
      "source": [
        "## Update the description\n"
      ]
    },
    {
      "cell_type": "code",
      "execution_count": null,
      "metadata": {
        "id": "9gAVuXT_wG3x"
      },
      "outputs": [],
      "source": [
        "genai.update_tuned_model(f'tunedModels/{name}', {\"description\":\"This is my model.\"});"
      ]
    },
    {
      "cell_type": "code",
      "execution_count": null,
      "metadata": {
        "id": "d-c3YerBxVYs"
      },
      "outputs": [],
      "source": [
        "model = genai.get_tuned_model(f'tunedModels/{name}')\n",
        "\n",
        "model.description"
      ]
    },
    {
      "cell_type": "markdown",
      "metadata": {
        "id": "i_TpwvBB4bQ7"
      },
      "source": [
        "## Delete the model\n"
      ]
    },
    {
      "cell_type": "code",
      "execution_count": 93,
      "metadata": {
        "id": "cepfaUCvVGCo"
      },
      "outputs": [],
      "source": [
        "genai.delete_tuned_model(f'tunedModels/{name}')"
      ]
    },
    {
      "cell_type": "code",
      "execution_count": null,
      "metadata": {
        "id": "kN_bkut_4ayL"
      },
      "outputs": [],
      "source": [
        "try:\n",
        "  m = genai.get_tuned_model(f'tunedModels/{name}')\n",
        "  print(m)\n",
        "except Exception as e:\n",
        "  print(f\"{type(e)}: {e}\")"
      ]
    }
  ],
  "metadata": {
    "colab": {
      "name": "python.ipynb",
      "provenance": []
    },
    "kernelspec": {
      "display_name": "Python 3",
      "name": "python3"
    },
    "widgets": {
      "application/vnd.jupyter.widget-state+json": {
        "81b56f7b6ca64ee783430bb3b4fd1758": {
          "model_module": "@jupyter-widgets/controls",
          "model_name": "HBoxModel",
          "model_module_version": "1.5.0",
          "state": {
            "_dom_classes": [],
            "_model_module": "@jupyter-widgets/controls",
            "_model_module_version": "1.5.0",
            "_model_name": "HBoxModel",
            "_view_count": null,
            "_view_module": "@jupyter-widgets/controls",
            "_view_module_version": "1.5.0",
            "_view_name": "HBoxView",
            "box_style": "",
            "children": [
              "IPY_MODEL_735275256fc941c899c48c710ea9bd20",
              "IPY_MODEL_312d3cda1029466c96bba74577875571",
              "IPY_MODEL_238fc4ade8544700af82725b63b09c7c"
            ],
            "layout": "IPY_MODEL_8a66d17e1f3b4656800d0332f2d76e20"
          }
        },
        "735275256fc941c899c48c710ea9bd20": {
          "model_module": "@jupyter-widgets/controls",
          "model_name": "HTMLModel",
          "model_module_version": "1.5.0",
          "state": {
            "_dom_classes": [],
            "_model_module": "@jupyter-widgets/controls",
            "_model_module_version": "1.5.0",
            "_model_name": "HTMLModel",
            "_view_count": null,
            "_view_module": "@jupyter-widgets/controls",
            "_view_module_version": "1.5.0",
            "_view_name": "HTMLView",
            "description": "",
            "description_tooltip": null,
            "layout": "IPY_MODEL_a57f8cf01eb24386a9a6e660a91cfb72",
            "placeholder": "​",
            "style": "IPY_MODEL_f8214368a9034be38f7a93a1f1b25422",
            "value": "  0%"
          }
        },
        "312d3cda1029466c96bba74577875571": {
          "model_module": "@jupyter-widgets/controls",
          "model_name": "FloatProgressModel",
          "model_module_version": "1.5.0",
          "state": {
            "_dom_classes": [],
            "_model_module": "@jupyter-widgets/controls",
            "_model_module_version": "1.5.0",
            "_model_name": "FloatProgressModel",
            "_view_count": null,
            "_view_module": "@jupyter-widgets/controls",
            "_view_module_version": "1.5.0",
            "_view_name": "ProgressView",
            "bar_style": "",
            "description": "",
            "description_tooltip": null,
            "layout": "IPY_MODEL_353ec3fbfe01448f84f270083b79d3e2",
            "max": 16,
            "min": 0,
            "orientation": "horizontal",
            "style": "IPY_MODEL_052e15dd29134e35a61c3c9167263a4a",
            "value": 0
          }
        },
        "238fc4ade8544700af82725b63b09c7c": {
          "model_module": "@jupyter-widgets/controls",
          "model_name": "HTMLModel",
          "model_module_version": "1.5.0",
          "state": {
            "_dom_classes": [],
            "_model_module": "@jupyter-widgets/controls",
            "_model_module_version": "1.5.0",
            "_model_name": "HTMLModel",
            "_view_count": null,
            "_view_module": "@jupyter-widgets/controls",
            "_view_module_version": "1.5.0",
            "_view_name": "HTMLView",
            "description": "",
            "description_tooltip": null,
            "layout": "IPY_MODEL_fa70414c35474c52bfe61cd04596770a",
            "placeholder": "​",
            "style": "IPY_MODEL_797a6c7313024626bbabe2edfc7afffb",
            "value": " 0/16 [02:06&lt;?, ?it/s]"
          }
        },
        "8a66d17e1f3b4656800d0332f2d76e20": {
          "model_module": "@jupyter-widgets/base",
          "model_name": "LayoutModel",
          "model_module_version": "1.2.0",
          "state": {
            "_model_module": "@jupyter-widgets/base",
            "_model_module_version": "1.2.0",
            "_model_name": "LayoutModel",
            "_view_count": null,
            "_view_module": "@jupyter-widgets/base",
            "_view_module_version": "1.2.0",
            "_view_name": "LayoutView",
            "align_content": null,
            "align_items": null,
            "align_self": null,
            "border": null,
            "bottom": null,
            "display": null,
            "flex": null,
            "flex_flow": null,
            "grid_area": null,
            "grid_auto_columns": null,
            "grid_auto_flow": null,
            "grid_auto_rows": null,
            "grid_column": null,
            "grid_gap": null,
            "grid_row": null,
            "grid_template_areas": null,
            "grid_template_columns": null,
            "grid_template_rows": null,
            "height": null,
            "justify_content": null,
            "justify_items": null,
            "left": null,
            "margin": null,
            "max_height": null,
            "max_width": null,
            "min_height": null,
            "min_width": null,
            "object_fit": null,
            "object_position": null,
            "order": null,
            "overflow": null,
            "overflow_x": null,
            "overflow_y": null,
            "padding": null,
            "right": null,
            "top": null,
            "visibility": null,
            "width": null
          }
        },
        "a57f8cf01eb24386a9a6e660a91cfb72": {
          "model_module": "@jupyter-widgets/base",
          "model_name": "LayoutModel",
          "model_module_version": "1.2.0",
          "state": {
            "_model_module": "@jupyter-widgets/base",
            "_model_module_version": "1.2.0",
            "_model_name": "LayoutModel",
            "_view_count": null,
            "_view_module": "@jupyter-widgets/base",
            "_view_module_version": "1.2.0",
            "_view_name": "LayoutView",
            "align_content": null,
            "align_items": null,
            "align_self": null,
            "border": null,
            "bottom": null,
            "display": null,
            "flex": null,
            "flex_flow": null,
            "grid_area": null,
            "grid_auto_columns": null,
            "grid_auto_flow": null,
            "grid_auto_rows": null,
            "grid_column": null,
            "grid_gap": null,
            "grid_row": null,
            "grid_template_areas": null,
            "grid_template_columns": null,
            "grid_template_rows": null,
            "height": null,
            "justify_content": null,
            "justify_items": null,
            "left": null,
            "margin": null,
            "max_height": null,
            "max_width": null,
            "min_height": null,
            "min_width": null,
            "object_fit": null,
            "object_position": null,
            "order": null,
            "overflow": null,
            "overflow_x": null,
            "overflow_y": null,
            "padding": null,
            "right": null,
            "top": null,
            "visibility": null,
            "width": null
          }
        },
        "f8214368a9034be38f7a93a1f1b25422": {
          "model_module": "@jupyter-widgets/controls",
          "model_name": "DescriptionStyleModel",
          "model_module_version": "1.5.0",
          "state": {
            "_model_module": "@jupyter-widgets/controls",
            "_model_module_version": "1.5.0",
            "_model_name": "DescriptionStyleModel",
            "_view_count": null,
            "_view_module": "@jupyter-widgets/base",
            "_view_module_version": "1.2.0",
            "_view_name": "StyleView",
            "description_width": ""
          }
        },
        "353ec3fbfe01448f84f270083b79d3e2": {
          "model_module": "@jupyter-widgets/base",
          "model_name": "LayoutModel",
          "model_module_version": "1.2.0",
          "state": {
            "_model_module": "@jupyter-widgets/base",
            "_model_module_version": "1.2.0",
            "_model_name": "LayoutModel",
            "_view_count": null,
            "_view_module": "@jupyter-widgets/base",
            "_view_module_version": "1.2.0",
            "_view_name": "LayoutView",
            "align_content": null,
            "align_items": null,
            "align_self": null,
            "border": null,
            "bottom": null,
            "display": null,
            "flex": null,
            "flex_flow": null,
            "grid_area": null,
            "grid_auto_columns": null,
            "grid_auto_flow": null,
            "grid_auto_rows": null,
            "grid_column": null,
            "grid_gap": null,
            "grid_row": null,
            "grid_template_areas": null,
            "grid_template_columns": null,
            "grid_template_rows": null,
            "height": null,
            "justify_content": null,
            "justify_items": null,
            "left": null,
            "margin": null,
            "max_height": null,
            "max_width": null,
            "min_height": null,
            "min_width": null,
            "object_fit": null,
            "object_position": null,
            "order": null,
            "overflow": null,
            "overflow_x": null,
            "overflow_y": null,
            "padding": null,
            "right": null,
            "top": null,
            "visibility": null,
            "width": null
          }
        },
        "052e15dd29134e35a61c3c9167263a4a": {
          "model_module": "@jupyter-widgets/controls",
          "model_name": "ProgressStyleModel",
          "model_module_version": "1.5.0",
          "state": {
            "_model_module": "@jupyter-widgets/controls",
            "_model_module_version": "1.5.0",
            "_model_name": "ProgressStyleModel",
            "_view_count": null,
            "_view_module": "@jupyter-widgets/base",
            "_view_module_version": "1.2.0",
            "_view_name": "StyleView",
            "bar_color": null,
            "description_width": ""
          }
        },
        "fa70414c35474c52bfe61cd04596770a": {
          "model_module": "@jupyter-widgets/base",
          "model_name": "LayoutModel",
          "model_module_version": "1.2.0",
          "state": {
            "_model_module": "@jupyter-widgets/base",
            "_model_module_version": "1.2.0",
            "_model_name": "LayoutModel",
            "_view_count": null,
            "_view_module": "@jupyter-widgets/base",
            "_view_module_version": "1.2.0",
            "_view_name": "LayoutView",
            "align_content": null,
            "align_items": null,
            "align_self": null,
            "border": null,
            "bottom": null,
            "display": null,
            "flex": null,
            "flex_flow": null,
            "grid_area": null,
            "grid_auto_columns": null,
            "grid_auto_flow": null,
            "grid_auto_rows": null,
            "grid_column": null,
            "grid_gap": null,
            "grid_row": null,
            "grid_template_areas": null,
            "grid_template_columns": null,
            "grid_template_rows": null,
            "height": null,
            "justify_content": null,
            "justify_items": null,
            "left": null,
            "margin": null,
            "max_height": null,
            "max_width": null,
            "min_height": null,
            "min_width": null,
            "object_fit": null,
            "object_position": null,
            "order": null,
            "overflow": null,
            "overflow_x": null,
            "overflow_y": null,
            "padding": null,
            "right": null,
            "top": null,
            "visibility": null,
            "width": null
          }
        },
        "797a6c7313024626bbabe2edfc7afffb": {
          "model_module": "@jupyter-widgets/controls",
          "model_name": "DescriptionStyleModel",
          "model_module_version": "1.5.0",
          "state": {
            "_model_module": "@jupyter-widgets/controls",
            "_model_module_version": "1.5.0",
            "_model_name": "DescriptionStyleModel",
            "_view_count": null,
            "_view_module": "@jupyter-widgets/base",
            "_view_module_version": "1.2.0",
            "_view_name": "StyleView",
            "description_width": ""
          }
        }
      }
    }
  },
  "nbformat": 4,
  "nbformat_minor": 0
}